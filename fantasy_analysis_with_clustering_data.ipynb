{
  "nbformat": 4,
  "nbformat_minor": 0,
  "metadata": {
    "colab": {
      "provenance": [],
      "authorship_tag": "ABX9TyP/5545JQ0MVcKYxu5hp9/G",
      "include_colab_link": true
    },
    "kernelspec": {
      "name": "python3",
      "display_name": "Python 3"
    },
    "language_info": {
      "name": "python"
    }
  },
  "cells": [
    {
      "cell_type": "markdown",
      "metadata": {
        "id": "view-in-github",
        "colab_type": "text"
      },
      "source": [
        "<a href=\"https://colab.research.google.com/github/AnthonyKDaniels/2023FantasyFootballAnalysis/blob/main/fantasy_analysis_with_clustering_data.ipynb\" target=\"_parent\"><img src=\"https://colab.research.google.com/assets/colab-badge.svg\" alt=\"Open In Colab\"/></a>"
      ]
    },
    {
      "cell_type": "code",
      "source": [
        "from google.colab import drive\n",
        "drive.mount('/content/drive')"
      ],
      "metadata": {
        "colab": {
          "base_uri": "https://localhost:8080/",
          "height": 0
        },
        "id": "nLwv9-SYRu0r",
        "outputId": "4e781298-d2d5-48c1-b8f3-7415378112bf"
      },
      "execution_count": 1,
      "outputs": [
        {
          "output_type": "stream",
          "name": "stdout",
          "text": [
            "Mounted at /content/drive\n"
          ]
        }
      ]
    },
    {
      "cell_type": "code",
      "execution_count": 41,
      "metadata": {
        "colab": {
          "base_uri": "https://localhost:8080/"
        },
        "id": "bGNDzi0HRpWA",
        "outputId": "5ff80abc-58ed-4d46-d42b-02d07eb894b8"
      },
      "outputs": [
        {
          "output_type": "stream",
          "name": "stdout",
          "text": [
            "           Player     G  FPTS/G  Rank POS\n",
            "10  Keenan Allen   13.0    13.1  12.0  WR\n"
          ]
        }
      ],
      "source": [
        "\n",
        "import pandas as pd\n",
        "import matplotlib.pyplot as plt\n",
        "import numpy as np\n",
        "\n",
        "#Importing the total season fantasy data for each position\n",
        "totalRB = pd.read_csv(\"/content/drive/MyDrive/Fantasy Football Analysis 2023 Season/Total RB.T.csv\")\n",
        "totalRB = totalRB.drop([\"ATT\",\"Rank\",\"YDS\", \"Y/A\",\"LG\",\"20+\" ,\"TD\", \"REC\", \"TGT\", \"YDS\",\"YDS.1\", \"Y/R\",\"TD.1\",\"FL\", \"ROST\"], axis=1)\n",
        "totalRB['Position']='RB'\n",
        "totalRB['Team'] = totalRB['Player'].str.split('(').str[1]\n",
        "totalRB['Team']= totalRB['Team'].str.replace(\")\", \"\")\n",
        "totalRB['Player'] = totalRB['Player'].str.split('(').str[0]\n",
        "totalRB = totalRB.sort_values('Player')\n",
        "\n",
        "\n",
        "totalQB = pd.read_csv(\"/content/drive/MyDrive/Fantasy Football Analysis 2023 Season/Total QB.csv\")\n",
        "totalQB=totalQB.reset_index()\n",
        "totalQB = totalQB.drop([\"CMP\", \"ATT\", \"PCT\", \"YDS\", \"Y/A\", \"TD\", \"INT\", \"SACKS\", \"ATT.1\", \"YDS.1\", \"TD.1\", \"FL\", \"ROST\"], axis=1)\n",
        "totalQB['Position']='QB'\n",
        "totalQB['Team'] = totalQB['Player'].str.split('(').str[1]\n",
        "totalQB['Team']= totalQB['Team'].str.replace(\")\", \"\")\n",
        "totalQB['Player'] = totalQB['Player'].str.split('(').str[0]\n",
        "totalQB = totalQB.sort_values('Player')\n",
        "totalQB.rename(columns = {'index':'Rank'}, inplace = True)\n",
        "\n",
        "\n",
        "totalWR = pd.read_csv(\"/content/drive/MyDrive/Fantasy Football Analysis 2023 Season/Total WR.T.csv\")\n",
        "totalWR = totalWR.drop([\"REC\",\"TGT\",\"YDS\", \"Y/R\",\"LG\",\"20+\" ,\"TD\", \"ATT\",\"YDS\",\"YDS.1\",\"TD.1\",\"FL\", \"ROST\"], axis=1)\n",
        "totalWR['Position']='WR'\n",
        "totalWR['Team'] = totalWR['Player'].str.split('(').str[1]\n",
        "totalWR['Team']= totalWR['Team'].str.replace(\")\", \"\")\n",
        "totalWR['Player'] = totalWR['Player'].str.split('(').str[0]\n",
        "totalWR = totalWR.sort_values('Player')\n",
        "\n",
        "totalTE = pd.read_csv(\"/content/drive/MyDrive/Fantasy Football Analysis 2023 Season/Total TE.T.csv\")\n",
        "totalTE = totalTE.drop([\"REC\",\"TGT\",\"YDS\", \"Y/R\",\"LG\",\"20+\" ,\"TD\", \"ATT\",\"YDS\",\"YDS.1\",\"TD.1\",\"FL\", \"ROST\"], axis=1)\n",
        "totalTE['Position']='TE'\n",
        "totalTE['Team'] = totalTE['Player'].str.split('(').str[1]\n",
        "totalTE['Team']= totalWR['Team'].str.replace(\")\", \"\")\n",
        "totalTE['Player'] = totalTE['Player'].str.split('(').str[0]\n",
        "totalTE = totalTE.sort_values('Player')\n",
        "\n",
        "totalswithgamesplayed=pd.concat([totalQB, totalRB, totalWR, totalTE], axis=0)\n",
        "totalswithgamesplayed = totalswithgamesplayed.drop(columns=[\"FPTS\", \"Team\"])\n",
        "\n",
        "\n",
        "Schedule2023 = pd.read_csv(\"/content/drive/MyDrive/Fantasy Football Analysis 2023 Season/2023Schedules.csv\")\n",
        "Schedule2023= Schedule2023.drop([\"W17\", \"W18\"], axis = 1)\n",
        "\n",
        "Defense = pd.read_csv(\"/content/drive/MyDrive/Fantasy Football Analysis 2023 Season/Defensive Rankings.csv\")\n",
        "twx = totalswithgamesplayed.pop('Rank')\n",
        "totalswithgamesplayed.insert(3, 'Rank', twx+1)\n",
        "totalswithgamesplayed.rename(columns={'Position': 'POS'}, inplace=True)\n",
        "totalswithgamesplayed = totalswithgamesplayed.sort_values(by='Rank')\n",
        "print(totalswithgamesplayed[totalswithgamesplayed['Player']=='Keenan Allen '])\n"
      ]
    },
    {
      "cell_type": "code",
      "source": [
        "#establishing some data frames.  Some used and some not used.  Alot changed as we got deeper into the coding\n",
        "qblist=list(totalQB['Player'])\n",
        "completedataqb=pd.DataFrame()\n",
        "weeklydata_QB=pd.DataFrame()\n",
        "wdata=pd.DataFrame()\n",
        "totalqbdata = pd.DataFrame()\n",
        "tdata=pd.DataFrame()\n",
        "completedatarb=pd.DataFrame()\n",
        "weeklydata_RB=pd.DataFrame()\n",
        "wdatar=pd.DataFrame()\n",
        "print(qblist)\n",
        "rblist=list(totalRB['Player'])\n",
        "wdatawr=pd.DataFrame()"
      ],
      "metadata": {
        "colab": {
          "base_uri": "https://localhost:8080/"
        },
        "id": "ylZx2A1jSeh4",
        "outputId": "f70108c0-8fb6-49ef-9c73-1d35111e586b"
      },
      "execution_count": 42,
      "outputs": [
        {
          "output_type": "stream",
          "name": "stdout",
          "text": [
            "['AJ McCarron ', 'Aaron Rodgers ', 'Adam Froman ', \"Aidan O'Connell \", 'Alex McGough ', 'Andy Dalton ', 'Anthony Brown Jr. ', 'Anthony Richardson ', 'Bailey Zappe ', 'Baker Mayfield ', 'Ben Chappell ', 'Ben DiNucci ', 'Blaine Gabbert ', 'Bo Nix ', 'Brandon Allen ', 'Brett Rypien ', 'Brett Smith ', 'Brian Hoyer ', 'Brock Purdy ', 'Bryce Young ', 'C.J. Beathard ', 'C.J. Stroud ', 'Caleb Williams ', 'Carson Wentz ', 'Carter Bradley ', 'Case Keenum ', 'Casey Bauman ', 'Cephus Johnson III ', 'Chris Oladokun ', 'Clayton Tune ', 'Cooper Rush ', 'Dak Prescott ', 'Daniel Jones ', 'Davis Mills ', 'Derek Carr ', 'Deshaun Watson ', 'Desmond Ridder ', 'Devin Leary ', 'Dorian Thompson-Robinson ', 'Drake Maye ', 'Dresser Winn ', 'Drew Lock ', 'Drew Plitt ', 'Easton Stick ', 'Erik Ainge ', 'Feleipe Franks ', 'Gardner Minshew II ', 'Geno Smith ', 'Hendon Hooker ', 'Hunter Cantwell ', 'Ian Book ', 'J.J. McCarthy ', 'Jacob Eason ', 'Jacoby Brissett ', 'Jake Browning ', 'Jake Fromm ', 'Jake Haener ', 'Jalen Hurts ', 'Jameis Winston ', 'Jared Goff ', 'Jaren Hall ', 'Jarrett Stidham ', 'Jayden Daniels ', 'Jeff Driskel ', 'Jimmy Garoppolo ', 'Joe Burrow ', 'Joe Flacco ', 'Joe Milton III ', 'John Rhys Plumlee ', 'John Wolford ', 'Jordan Love ', 'Jordan Travis ', 'Josh Allen ', 'Josh Johnson ', 'Joshua Dobbs ', 'Justin Fields ', 'Justin Herbert ', 'Kellen Mond ', 'Kenny Pickett ', 'Kirk Cousins ', 'Kyle Allen ', 'Kyle Trask ', 'Kyler Murray ', 'Lamar Jackson ', 'Logan Woodside ', 'Mac Jones ', 'Malik Cunningham ', 'Malik Willis ', 'Marcus Mariota ', 'Mason Rudolph ', 'Matt Barkley ', 'Matthew Stafford ', 'Max Duggan ', 'Michael Penix Jr. ', 'Michael Penix Jr. ', 'Michael Pratt ', 'Mike White ', 'Mitchell Trubisky ', 'Nate Sudfeld ', 'Nathan Peterman ', 'Nathan Rourke ', 'Nick Mullens ', 'P.J. Walker ', 'Patrick Mahomes II ', 'Russell Wilson ', 'Ryan Tannehill ', 'Sam Darnold ', 'Sam Ehlinger ', 'Sam Howell ', 'Sean Clifford ', 'Shane Buechele ', 'Skylar Thompson ', 'Spencer Rattler ', 'Stetson Bennett ', 'Tanner McKee ', 'Taylor Heinicke ', 'Teddy Bridgewater ', 'Tim Boyle ', 'Tommy DeVito ', 'Trevor Lawrence ', 'Trevor Siemian ', 'Trey Lance ', 'Tua Tagovailoa ', 'Tyler Huntley ', 'Tyrod Taylor ', 'Tyson Bagent ', 'Will Grier ', 'Will Levis ', 'Zach Wilson ']\n"
          ]
        }
      ]
    },
    {
      "cell_type": "markdown",
      "source": [
        "The following several coding frames are importing the week by week data for each player by position.  I couldn't find a file with every player week by week in 1 file, so I had to do it position by position and will merge it all together later on down the line"
      ],
      "metadata": {
        "id": "E1NhLnw4XYNC"
      }
    },
    {
      "cell_type": "code",
      "source": [
        "import pandas as pd\n",
        "\n",
        "# Initialize an empty DataFrame for the total QB data\n",
        "totalqbdata = pd.DataFrame()\n",
        "\n",
        "# Iterate through each week (1 to 16)\n",
        "for i in range(1, 17):\n",
        "    # Read the weekly QB data\n",
        "    weeklydata_QB = pd.read_csv(f\"/content/drive/MyDrive/Fantasy Football Analysis 2023 Season/2023 QB Weekly/QB{i}.f.csv\")\n",
        "\n",
        "    # Drop the unnecessary columns\n",
        "    columns_to_drop = [\"Rank\", \"CMP\", \"ATT\", \"PCT\", \"YDS\", \"Y/A\", \"TD\", \"INT\", \"SACKS\", \"ATT.1\", \"YDS.1\", \"TD.1\", \"FL\", \"G\", \"FPTS/G\", \"ROST\"]\n",
        "    weeklydata_QB = weeklydata_QB.drop(columns=columns_to_drop)\n",
        "\n",
        "    # Rename the FPTS column to indicate the week number\n",
        "    weeklydata_QB = weeklydata_QB.rename(columns={\"FPTS\": f\"FPTS_{i}\"})\n",
        "\n",
        "    # Extract the team name and clean the player names\n",
        "    weeklydata_QB['Team'] = weeklydata_QB['Player'].str.split('(').str[1].str.replace(\")\", \"\")\n",
        "    weeklydata_QB['Player'] = weeklydata_QB['Player'].str.split('(').str[0]\n",
        "\n",
        "    # Sort the data by player name\n",
        "    weeklydata_QB = weeklydata_QB.sort_values('Player')\n",
        "\n",
        "    # If it's the first week, initialize the totalqbdata DataFrame\n",
        "    if i == 1:\n",
        "        totalqbdata = weeklydata_QB\n",
        "    else:\n",
        "        # For subsequent weeks, merge the new data with the totalqbdata DataFrame\n",
        "        totalqbdata = pd.merge(totalqbdata, weeklydata_QB, on=['Player', 'Team'], how='outer')\n",
        "\n",
        "# After processing all weeks, add the 'Pos' column\n",
        "totalqbdata['Pos'] = 'QB'\n",
        "\n",
        "\n",
        "\n",
        "print(totalqbdata[totalqbdata[\"Player\"]== 'Tua Tagovailoa '])\n",
        "\n",
        "\n",
        "\n"
      ],
      "metadata": {
        "colab": {
          "base_uri": "https://localhost:8080/"
        },
        "id": "YvVwHUNJT-Ci",
        "outputId": "da39eae1-26ae-46ba-e7ce-9851495a8d60"
      },
      "execution_count": 43,
      "outputs": [
        {
          "output_type": "stream",
          "name": "stdout",
          "text": [
            "                Player  FPTS_1 Team  FPTS_2  FPTS_3  FPTS_4  FPTS_5  FPTS_6  \\\n",
            "65654  Tua Tagovailoa     28.1  MIA    13.3    28.4    15.0    18.9    22.5   \n",
            "\n",
            "       FPTS_7  FPTS_8  FPTS_9  FPTS_10  FPTS_11  FPTS_12  FPTS_13  FPTS_14  \\\n",
            "65654    11.3    22.8    12.4      0.0     18.6      9.8     19.2      9.1   \n",
            "\n",
            "       FPTS_15  FPTS_16 Pos  \n",
            "65654     13.0     15.5  QB  \n"
          ]
        }
      ]
    },
    {
      "cell_type": "code",
      "source": [
        "\n",
        "totalqbdata['AvgFantasyPoints']=((totalqbdata['FPTS_1']+totalqbdata['FPTS_2']+totalqbdata['FPTS_3']+totalqbdata['FPTS_4']+totalqbdata['FPTS_5']+totalqbdata['FPTS_6']+totalqbdata['FPTS_7']+totalqbdata['FPTS_8']+totalqbdata['FPTS_9']+totalqbdata['FPTS_10']+totalqbdata['FPTS_11']+totalqbdata['FPTS_12']+totalqbdata['FPTS_13']+totalqbdata['FPTS_14']+totalqbdata['FPTS_15']+totalqbdata['FPTS_16'])/15)\n",
        "print(totalqbdata[totalqbdata[\"Player\"]== 'Tua Tagovailoa '])"
      ],
      "metadata": {
        "colab": {
          "base_uri": "https://localhost:8080/"
        },
        "id": "8Zb0uIdEQoxJ",
        "outputId": "7368629d-b77f-4fc4-cff6-861cd8c6970f"
      },
      "execution_count": 44,
      "outputs": [
        {
          "output_type": "stream",
          "name": "stdout",
          "text": [
            "                Player  FPTS_1 Team  FPTS_2  FPTS_3  FPTS_4  FPTS_5  FPTS_6  \\\n",
            "65654  Tua Tagovailoa     28.1  MIA    13.3    28.4    15.0    18.9    22.5   \n",
            "\n",
            "       FPTS_7  FPTS_8  FPTS_9  FPTS_10  FPTS_11  FPTS_12  FPTS_13  FPTS_14  \\\n",
            "65654    11.3    22.8    12.4      0.0     18.6      9.8     19.2      9.1   \n",
            "\n",
            "       FPTS_15  FPTS_16 Pos  AvgFantasyPoints  \n",
            "65654     13.0     15.5  QB         17.193333  \n"
          ]
        }
      ]
    },
    {
      "cell_type": "code",
      "source": [
        "\n",
        "# Initialize an empty DataFrame for the total RB data\n",
        "totalrbdata = pd.DataFrame()\n",
        "\n",
        "# Iterate through each week (1 to 17)\n",
        "for i in range(1, 17):\n",
        "    # Read the weekly RB data\n",
        "    weeklydata_RB = pd.read_csv(f\"/content/drive/MyDrive/Fantasy Football Analysis 2023 Season/2023 RB Weekly/RB{i}.f.csv\")\n",
        "\n",
        "    # Drop the unnecessary columns\n",
        "    columns_to_drop = [\"ATT\", \"Rank\", \"YDS\", \"Y/A\", \"LG\", \"20+\", \"TD\", \"REC\", \"TGT\", \"YDS.1\", \"Y/R\", \"TD.1\", \"FL\", \"G\", \"FPTS/G\", \"ROST\"]\n",
        "    weeklydata_RB = weeklydata_RB.drop(columns=columns_to_drop)\n",
        "\n",
        "    # Rename the FPTS column to indicate the week number\n",
        "    weeklydata_RB = weeklydata_RB.rename(columns={\"FPTS\": f\"FPTS_{i}\"})\n",
        "\n",
        "    # Extract the team name and clean the player names\n",
        "    weeklydata_RB['Team'] = weeklydata_RB['Player'].str.split('(').str[1].str.replace(\")\", \"\")\n",
        "    weeklydata_RB['Player'] = weeklydata_RB['Player'].str.split('(').str[0]\n",
        "\n",
        "    # Sort the data by player name\n",
        "    weeklydata_RB = weeklydata_RB.sort_values('Player')\n",
        "\n",
        "    # If it's the first week, initialize the totalrbdata DataFrame\n",
        "    if i == 1:\n",
        "        totalrbdata = weeklydata_RB\n",
        "    else:\n",
        "        # For subsequent weeks, merge the new data with the totalrbdata DataFrame\n",
        "        totalrbdata = pd.merge(totalrbdata, weeklydata_RB, on=['Player', 'Team'], how='outer')\n",
        "\n",
        "\n",
        "\n",
        "\n",
        "totalrbdata['AvgFantasyPoints']=((totalrbdata['FPTS_1']+totalrbdata['FPTS_2']+totalrbdata['FPTS_3']+totalrbdata['FPTS_4']+totalrbdata['FPTS_5']+totalrbdata['FPTS_6']+totalrbdata['FPTS_7']+totalrbdata['FPTS_8']+totalrbdata['FPTS_9']+totalrbdata['FPTS_10']+totalrbdata['FPTS_11']+totalrbdata['FPTS_12']+totalrbdata['FPTS_13']+totalrbdata['FPTS_14']+totalrbdata['FPTS_15']+totalrbdata['FPTS_16'])/15)\n",
        "\n",
        "\n",
        "totalrbdata=totalrbdata.sort_values('AvgFantasyPoints', ascending=False)\n",
        "totalrbdata=totalrbdata.reset_index()\n",
        "totalrbdata.rename(columns = {'index':'Rank'}, inplace=True)\n",
        "twr = totalrbdata.pop('Rank')\n",
        "totalrbdata.insert(19, 'Rank', twr)\n",
        "toralrbdata=totalrbdata.sort_values('Player', ascending=True)\n",
        "totalrbdata['Pos']='RB'\n",
        "print(totalrbdata[totalrbdata['Player']=='Aaron Jones '])\n",
        "print(totalswithgamesplayed.head())\n",
        "\n"
      ],
      "metadata": {
        "colab": {
          "base_uri": "https://localhost:8080/"
        },
        "id": "V9PrHzpyTa42",
        "outputId": "413bfb6f-4022-4730-9cc8-4999b14cf8ca"
      },
      "execution_count": 45,
      "outputs": [
        {
          "output_type": "stream",
          "name": "stdout",
          "text": [
            "         Player  FPTS_1 Team  FPTS_2  FPTS_3  FPTS_4  FPTS_5  FPTS_6  FPTS_7  \\\n",
            "0  Aaron Jones     24.7  MIN    24.7    24.7    24.7    24.7    24.7    24.7   \n",
            "\n",
            "   FPTS_8  ...  FPTS_10  FPTS_11  FPTS_12  FPTS_13  FPTS_14  FPTS_15  FPTS_16  \\\n",
            "0    24.7  ...     24.7     24.7     24.7     24.7     24.7     24.7     24.7   \n",
            "\n",
            "   AvgFantasyPoints  Rank  Pos  \n",
            "0         26.346667     1   RB  \n",
            "\n",
            "[1 rows x 21 columns]\n",
            "         Player     G  FPTS/G  Rank POS\n",
            "0   Josh Allen   17.0    24.2   1.0  QB\n",
            "0  CeeDee Lamb   17.0    15.8   2.0  WR\n",
            "1  Jalen Hurts   17.0    21.9   2.0  QB\n",
            "0  Sam LaPorta   17.0     9.0   2.0  TE\n",
            "1  Tyreek Hill   16.0    16.1   3.0  WR\n"
          ]
        }
      ]
    },
    {
      "cell_type": "code",
      "source": [
        "# Initialize an empty DataFrame for the total WR data\n",
        "totalwrdata = pd.DataFrame()\n",
        "\n",
        "# Iterate through each week (1 to 17)\n",
        "for i in range(1, 17):\n",
        "    # Read the weekly WR data\n",
        "    weeklydata_WR = pd.read_csv(f\"/content/drive/MyDrive/Fantasy Football Analysis 2023 Season/2023 WR Weekly/WR{i}.f.csv\")\n",
        "\n",
        "    # Drop the unnecessary columns\n",
        "    columns_to_drop = [\"ATT\", \"Rank\", \"YDS\", \"Y/R\", \"LG\", \"20+\", \"TD\", \"REC\", \"TGT\", \"YDS.1\", \"Y/R\", \"TD.1\", \"FL\", \"G\", \"FPTS/G\", \"ROST\"]\n",
        "    weeklydata_WR = weeklydata_WR.drop(columns=columns_to_drop)\n",
        "\n",
        "    # Rename the FPTS column to indicate the week number\n",
        "    weeklydata_WR = weeklydata_WR.rename(columns={\"FPTS\": f\"FPTS_{i}\"})\n",
        "\n",
        "    # Extract the team name and clean the player names\n",
        "    weeklydata_WR['Team'] = weeklydata_WR['Player'].str.split('(').str[1].str.replace(\")\", \"\")\n",
        "    weeklydata_WR['Player'] = weeklydata_WR['Player'].str.split('(').str[0]\n",
        "\n",
        "    # Sort the data by player name\n",
        "    weeklydata_WR = weeklydata_WR.sort_values('Player')\n",
        "\n",
        "    # If it's the first week, initialize the totalwrdata DataFrame\n",
        "    if i == 1:\n",
        "        totalwrdata = weeklydata_WR\n",
        "    else:\n",
        "        # For subsequent weeks, merge the new data with the totalwrdata DataFrame\n",
        "        totalwrdata = pd.merge(totalwrdata, weeklydata_WR, on=['Player', 'Team'], how='outer')\n",
        "\n",
        "\n",
        "\n",
        "\n",
        "totalwrdata['AvgFantasyPoints']=((totalwrdata['FPTS_1']+totalwrdata['FPTS_2']+totalwrdata['FPTS_3']+totalwrdata['FPTS_4']+totalwrdata['FPTS_5']+totalwrdata['FPTS_6']+totalwrdata['FPTS_7']+totalwrdata['FPTS_8']+totalwrdata['FPTS_9']+totalwrdata['FPTS_10']+totalwrdata['FPTS_11']+totalwrdata['FPTS_12']+totalwrdata['FPTS_13']+totalwrdata['FPTS_14']+totalwrdata['FPTS_15']+totalwrdata['FPTS_16'])/15)\n",
        "totalwrdata['Pos']='WR'\n",
        "print(totalwrdata[totalwrdata['Player']== 'A.J. Brown '])\n"
      ],
      "metadata": {
        "colab": {
          "base_uri": "https://localhost:8080/"
        },
        "id": "Nl5S8O9lqzQX",
        "outputId": "70cd01e9-6e1f-4bf0-9976-a137272b54e5"
      },
      "execution_count": 46,
      "outputs": [
        {
          "output_type": "stream",
          "name": "stdout",
          "text": [
            "        Player  FPTS_1 Team  FPTS_2  FPTS_3  FPTS_4  FPTS_5  FPTS_6  FPTS_7  \\\n",
            "0  A.J. Brown     -1.1  PHI     5.3     8.0     5.6     7.4    11.4     9.7   \n",
            "\n",
            "   FPTS_8  FPTS_9  FPTS_10  FPTS_11  FPTS_12  FPTS_13  FPTS_14  FPTS_15  \\\n",
            "0     0.8     0.0     12.6     25.0     19.7     13.1     12.7     29.5   \n",
            "\n",
            "   FPTS_16  AvgFantasyPoints Pos  \n",
            "0     13.1             11.52  WR  \n"
          ]
        }
      ]
    },
    {
      "cell_type": "code",
      "source": [
        "totaltedata = pd.DataFrame()\n",
        "# Iterate through each week (1 to 16)\n",
        "for i in range(1, 17):\n",
        "    # Read the weekly TE data\n",
        "    weeklydata_TE = pd.read_csv(f\"/content/drive/MyDrive/Fantasy Football Analysis 2023 Season/2023 TE Weekly/TE{i}.f.csv\")\n",
        "\n",
        "    # Drop the unnecessary columns\n",
        "    columns_to_drop = [\"ATT\", \"Rank\", \"YDS\", \"Y/R\", \"LG\", \"20+\", \"TD\", \"REC\", \"TGT\", \"YDS.1\", \"Y/R\", \"TD.1\", \"FL\", \"G\", \"FPTS/G\", \"ROST\"]\n",
        "    weeklydata_TE = weeklydata_TE.drop(columns=columns_to_drop)\n",
        "\n",
        "    # Rename the FPTS column to indicate the week number\n",
        "    weeklydata_TE = weeklydata_TE.rename(columns={\"FPTS\": f\"FPTS_{i}\"})\n",
        "\n",
        "    # Extract the team name and clean the player names\n",
        "    weeklydata_TE['Team'] = weeklydata_TE['Player'].str.split('(').str[1].str.replace(\")\", \"\")\n",
        "    weeklydata_TE['Player'] = weeklydata_TE['Player'].str.split('(').str[0]\n",
        "\n",
        "    # Sort the data by player name\n",
        "    weeklydata_TE = weeklydata_TE.sort_values('Player')\n",
        "\n",
        "    # If it's the first week, initialize the totaltedata DataFrame\n",
        "    if i == 1:\n",
        "        totaltedata = weeklydata_TE\n",
        "    else:\n",
        "        # For subsequent weeks, merge the new data with the totaltedata DataFrame\n",
        "        totaltedata = pd.merge(totaltedata, weeklydata_TE, on=['Player', 'Team'], how='outer')\n",
        "\n",
        "\n",
        "\n",
        "totaltedata['AvgFantasyPoints']=((totaltedata['FPTS_1']+totaltedata['FPTS_2']+totaltedata['FPTS_3']+totaltedata['FPTS_4']+totaltedata['FPTS_5']+totaltedata['FPTS_6']+totaltedata['FPTS_7']+totaltedata['FPTS_8']+totaltedata['FPTS_9']+totaltedata['FPTS_10']+totaltedata['FPTS_11']+totaltedata['FPTS_12']+totaltedata['FPTS_13']+totaltedata['FPTS_14']+totaltedata['FPTS_15']+totaltedata['FPTS_16'])/15)\n",
        "totaltedata['Pos']='TE'\n",
        "print(totaltedata.head())"
      ],
      "metadata": {
        "colab": {
          "base_uri": "https://localhost:8080/"
        },
        "id": "gAAFacdCurxf",
        "outputId": "caf85852-115d-4a45-bd8b-b6d01561402d"
      },
      "execution_count": 47,
      "outputs": [
        {
          "output_type": "stream",
          "name": "stdout",
          "text": [
            "                    Player  FPTS_1 Team  FPTS_2  FPTS_3  FPTS_4  FPTS_5  \\\n",
            "0               AJ Barner      0.0  SEA     0.0     0.0     0.0     0.0   \n",
            "1           Adam Trautman      3.4  DEN     0.0     0.0     0.0     8.6   \n",
            "2  Albert Okwuegbunam Jr.      0.0  PHI     0.0     0.0     0.0     0.0   \n",
            "3             Andrew Beck      0.0  HOU     0.2     6.0     0.0     0.0   \n",
            "4          Andrew DePaola      0.0  MIN     0.0     0.0     0.0     0.0   \n",
            "\n",
            "   FPTS_6  FPTS_7  FPTS_8  FPTS_9  FPTS_10  FPTS_11  FPTS_12  FPTS_13  \\\n",
            "0     0.0     0.0     0.0     0.0      0.0      0.0      0.0      0.0   \n",
            "1     0.4     0.5     0.0     0.0      1.5      3.3      6.8      0.6   \n",
            "2     0.0     0.0     0.0     0.0      0.0      0.0      0.0      0.0   \n",
            "3     0.0     0.0     4.9     0.5      0.0      0.0      0.1      0.5   \n",
            "4     0.0     0.0     0.0     0.0      0.0      0.0      0.0      0.0   \n",
            "\n",
            "   FPTS_14  FPTS_15  FPTS_16  AvgFantasyPoints Pos  \n",
            "0      0.0      0.0      0.0          0.000000  TE  \n",
            "1      7.9      2.4      0.0          2.360000  TE  \n",
            "2      0.0      0.0      0.0          0.000000  TE  \n",
            "3      2.6     -0.5      6.6          1.393333  TE  \n",
            "4      0.0      0.0      0.0          0.000000  TE  \n"
          ]
        }
      ]
    },
    {
      "cell_type": "markdown",
      "source": [
        "The next coding string takes a while so be patient"
      ],
      "metadata": {
        "id": "vmpbr1bkX3nG"
      }
    },
    {
      "cell_type": "code",
      "source": [
        "statmashup = pd.concat([totalqbdata, totalrbdata, totalwrdata, totaltedata], axis=0, sort=False)\n",
        "#removeAway goes through the team names in the Schedule and the Defense data frames and makes sure that the team names mach those in statmashup\n",
        "def removeAway(x):\n",
        "    x = x.replace(\"@\", \"\")\n",
        "    x = x.replace(\"JAX\", \"JAC\")\n",
        "    x = x.replace(\"SFO\", \"SF\")\n",
        "    x = x.replace(\"GNB\", \"GB\")\n",
        "    x = x.replace(\"OAK\", \"LV\")\n",
        "    x = x.replace(\"NEW\", \"NE\")\n",
        "    x = x.replace(\"NOR\", \"NO\")\n",
        "    x = x.replace(\"TAM\", \"TB\")\n",
        "    x = x.replace(\"KAN\", \"KC\")\n",
        "    return x\n",
        "\n",
        "Schedule2023[\"Team\"] = Schedule2023[\"Team\"].apply(removeAway)\n",
        "Defense[\"Team\"] = Defense[\"Team\"].apply(removeAway)\n",
        "\n",
        "\n",
        "for i in range(1, 17):\n",
        "    Schedule2023[\"W\" + str(i)] = Schedule2023[\"W\" + str(i)].apply(removeAway)\n",
        "\n",
        "\n",
        "\n",
        "\n",
        "#Stars to merge some dataframes together on the Players names and eliminates the duplicate rank columns\n",
        "\n",
        "statmashup = pd.merge(statmashup, totalswithgamesplayed, on='Player')\n",
        "statmashup=statmashup.drop('Rank_x', axis=1)\n",
        "statmashup.rename(columns={'Rank_y': 'Rank'}, inplace=True)\n",
        "\n",
        "\n",
        "sorted_df = statmashup.sort_values(by='AvgFantasyPoints', ascending=False)\n",
        "sorted_df = sorted_df.drop(columns=['FPTS/G'])\n",
        "\n",
        "merged_df = pd.merge(sorted_df, Schedule2023, left_on='Team', right_on='Team', how='left')\n",
        "\n",
        "\n",
        "#Attaches the ranks of the defenses played each week to the rows for each player\n",
        "rank_lookup = {}\n",
        "for _, row in Defense.iterrows():\n",
        "    rank_lookup[row['Team']] = {\n",
        "        'QB': row['QB Rank'],\n",
        "        'RB': row['RB Rank'],\n",
        "        'WR': row['WR Rank'],\n",
        "        'TE': row['TE Rank']\n",
        "}\n",
        "\n",
        "for week in ['W1', 'W2', 'W3', 'W4', 'W5', 'W6', 'W7', 'W8', 'W9', 'W10', 'W11', 'W12', 'W13', 'W14', 'W15', 'W16']:\n",
        "    merged_df[f'{week}_Opponent_Rank'] = merged_df.apply(\n",
        "        lambda row: rank_lookup[row[week]].get(row['Pos'], None) if row[week] in rank_lookup and row[\n",
        "            week] != 'BYE' else None,\n",
        "        axis=1\n",
        "    )\n",
        "\n",
        "statmashup2=merged_df\n",
        "\n",
        "#Just a check to allow me to visually check the team names in the Schedule for correctness\n",
        "\n",
        "print(Schedule2023)\n",
        "\n",
        "\n"
      ],
      "metadata": {
        "colab": {
          "base_uri": "https://localhost:8080/"
        },
        "id": "gCfNkDhI2XGr",
        "outputId": "deb16f04-f8bb-479c-f1ac-c6385cff6183"
      },
      "execution_count": 49,
      "outputs": [
        {
          "output_type": "stream",
          "name": "stdout",
          "text": [
            "   Team   W1   W2   W3   W4   W5   W6   W7   W8   W9  W10  W11  W12  W13  W14  \\\n",
            "0   ARI  WAS  NYG  DAL   SF  CIN  LAR  SEA  BAL  CLE  ATL  HOU  LAR  PIT  BYE   \n",
            "1   ATL  CAR   GB  DET  JAC  HOU  WAS   TB  TEN  MIN  ARI  BYE   NO  NYJ   TB   \n",
            "2   BAL  HOU  CIN  IND  CLE  PIT  TEN  DET  ARI  SEA  CLE  CIN  LAC  BYE  LAR   \n",
            "3   BUF  NYJ   LV  WAS  MIA  JAC  NYG   NE   TB  CIN  DEN  NYJ  PHI  BYE   KC   \n",
            "4   CAR  ATL   NO  SEA  MIN  DET  MIA  BYE  HOU  IND  CHI  DAL  TEN   TB   NO   \n",
            "5   CHI   GB   TB   KC  DEN  WAS  MIN   LV  LAC   NO  CAR  DET  MIN  BYE  DET   \n",
            "6   CIN  CLE  BAL  LAR  TEN  ARI  SEA  BYE   SF  BUF  HOU  BAL  PIT  JAC  IND   \n",
            "7   CLE  CIN  PIT  TEN  BAL  BYE   SF  IND  SEA  ARI  BAL  PIT  DEN  LAR  JAC   \n",
            "8   DAL  NYG  NYJ  ARI   NE   SF  LAC  BYE  LAR  PHI  NYG  CAR  WAS  SEA  PHI   \n",
            "9   DEN   LV  WAS  MIA  CHI  NYJ   KC   GB   KC  BYE  BUF  MIN  CLE  HOU  LAC   \n",
            "10  DET   KC  SEA  ATL   GB  CAR   TB  BAL   LV  BYE  LAC  CHI   GB   NO  CHI   \n",
            "11   GB  CHI  ATL   NO  DET   LV  BYE  DEN  MIN  LAR  PIT  LAC  DET   KC  NYG   \n",
            "12  HOU  BAL  IND  JAC  PIT  ATL   NO  BYE  CAR   TB  CIN  ARI  JAC  DEN  NYJ   \n",
            "13  IND  JAC  HOU  BAL  LAR  TEN  JAC  CLE   NO  CAR   NE  BYE   TB  TEN  CIN   \n",
            "14  JAC  IND   KC  HOU  ATL  BUF  IND   NO  PIT  BYE   SF  TEN  HOU  CIN  CLE   \n",
            "15   KC  DET  JAC  CHI  NYJ  MIN  DEN  LAC  DEN  MIA  BYE  PHI   LV   GB  BUF   \n",
            "16  LAC  MIA  TEN  MIN   LV  BYE  DAL   KC  CHI  NYJ  DET   GB  BAL   NE  DEN   \n",
            "17  LAR  SEA   SF  CIN  IND  PHI  ARI  PIT  DAL   GB  BYE  SEA  ARI  CLE  BAL   \n",
            "18   LV  DEN  BUF  PIT  LAC   GB   NE  CHI  DET  NYG  NYJ  MIA   KC  BYE  MIN   \n",
            "19  MIA  LAC   NE  DEN  BUF  NYG  CAR  PHI   NE   KC  BYE   LV  NYJ  WAS  TEN   \n",
            "20  MIN   TB  PHI  LAC  CAR   KC  CHI   SF   GB  ATL   NO  DEN  CHI  BYE   LV   \n",
            "21   NE  PHI  MIA  NYJ  DAL   NO   LV  BUF  MIA  WAS  IND  BYE  NYG  LAC  PIT   \n",
            "22   NO  TEN  CAR   GB   TB   NE  HOU  JAC  IND  CHI  MIN  BYE  ATL  DET  CAR   \n",
            "23  NYG  DAL  ARI   SF  SEA  MIA  BUF  WAS  NYJ   LV  DAL  WAS   NE  BYE   GB   \n",
            "24  NYJ  BUF  DAL   NE   KC  DEN  PHI  BYE  NYG  LAC   LV  BUF  MIA  ATL  HOU   \n",
            "25  PHI   NE  MIN   TB  WAS  LAR  NYJ  MIA  WAS  DAL  BYE   KC  BUF   SF  DAL   \n",
            "26  PIT   SF  CLE   LV  HOU  BAL  BYE  LAR  JAC  TEN   GB  CLE  CIN  ARI   NE   \n",
            "27  SEA  LAR  DET  CAR  NYG  BYE  CIN  ARI  CLE  BAL  WAS  LAR   SF  DAL   SF   \n",
            "28   SF  PIT  LAR  NYG  ARI  DAL  CLE  MIN  CIN  BYE  JAC   TB  SEA  PHI  SEA   \n",
            "29   TB  MIN  CHI  PHI   NO  BYE  DET  ATL  BUF  HOU  TEN   SF  IND  CAR  ATL   \n",
            "30  TEN   NO  LAC  CLE  CIN  IND  BAL  BYE  ATL  PIT   TB  JAC  CAR  IND  MIA   \n",
            "31  WAS  ARI  DEN  BUF  PHI  CHI  ATL  NYG  PHI   NE  SEA  NYG  DAL  MIA  BYE   \n",
            "\n",
            "    W15  W16  \n",
            "0    SF  CHI  \n",
            "1   CAR  IND  \n",
            "2   JAC   SF  \n",
            "3   DAL  LAC  \n",
            "4   ATL   GB  \n",
            "5   CLE  ARI  \n",
            "6   MIN  PIT  \n",
            "7   CHI  HOU  \n",
            "8   BUF  MIA  \n",
            "9   DET   NE  \n",
            "10  DEN  MIN  \n",
            "11   TB  CAR  \n",
            "12  TEN  CLE  \n",
            "13  PIT  ATL  \n",
            "14  BAL   TB  \n",
            "15   NE   LV  \n",
            "16   LV  BUF  \n",
            "17  WAS   NO  \n",
            "18  LAC   KC  \n",
            "19  NYJ  DAL  \n",
            "20  CIN  DET  \n",
            "21   KC  DEN  \n",
            "22  NYG  LAR  \n",
            "23   NO  PHI  \n",
            "24  MIA  WAS  \n",
            "25  SEA  NYG  \n",
            "26  IND  CIN  \n",
            "27  PHI  TEN  \n",
            "28  ARI  BAL  \n",
            "29   GB  JAC  \n",
            "30  HOU  SEA  \n",
            "31  LAR  NYJ  \n"
          ]
        }
      ]
    },
    {
      "cell_type": "code",
      "source": [
        "print(totalswithgamesplayed.head())"
      ],
      "metadata": {
        "colab": {
          "base_uri": "https://localhost:8080/"
        },
        "id": "XXQF7Ho_eqVZ",
        "outputId": "8c612540-a5a6-41fd-cca9-4ecb027b4fb4"
      },
      "execution_count": 50,
      "outputs": [
        {
          "output_type": "stream",
          "name": "stdout",
          "text": [
            "         Player     G  FPTS/G  Rank POS\n",
            "0   Josh Allen   17.0    24.2   1.0  QB\n",
            "0  CeeDee Lamb   17.0    15.8   2.0  WR\n",
            "1  Jalen Hurts   17.0    21.9   2.0  QB\n",
            "0  Sam LaPorta   17.0     9.0   2.0  TE\n",
            "1  Tyreek Hill   16.0    16.1   3.0  WR\n"
          ]
        }
      ]
    },
    {
      "cell_type": "code",
      "source": [
        "# Ensure all team columns are strings and strip whitespace\n",
        "Schedule2023['Team'] = Schedule2023['Team'].astype(str).str.strip()\n",
        "Defense['Team'] = Defense['Team'].astype(str).str.strip()\n",
        "statmashup2['Team'] = statmashup2['Team'].astype(str).str.strip()\n",
        "statmashup2['Pos'] = statmashup2['Pos'].astype(str).str.strip()\n",
        "statmashup2['Player'] = statmashup2['Player'].astype(str).str.strip()\n",
        "# Also ensure the index of Schedule2023 and Defense are strings and stripped\n",
        "Schedule2023.index = Schedule2023.index.astype(str).str.strip()\n",
        "Defense.index = Defense.index.astype(str).str.strip()\n",
        "totalswithgamesplayed['Player']=totalswithgamesplayed['Player'].astype(str).str.strip()\n",
        "# Convert 'Team' columns to strings\n",
        "Schedule2023['Team'] = Schedule2023['Team'].astype(str)\n",
        "Defense['Team'] = Defense['Team'].astype(str)\n",
        "statmashup2['Team'] = statmashup2['Team'].astype(str)\n",
        "\n",
        "# Set 'Team' as the index for relevant DataFrames\n",
        "Schedule2023.set_index('Team', inplace=True)\n",
        "Defense.set_index('Team', inplace=True)\n",
        "statmashup2.set_index('Player', inplace=True)\n",
        "\n",
        "\n",
        "\n",
        "\n"
      ],
      "metadata": {
        "id": "Gk99haL4eCEl"
      },
      "execution_count": 51,
      "outputs": []
    },
    {
      "cell_type": "code",
      "source": [
        "totalswithgamesplayed.set_index('Player', inplace=True)"
      ],
      "metadata": {
        "id": "T5XD3QNVl-E9"
      },
      "execution_count": 60,
      "outputs": []
    },
    {
      "cell_type": "code",
      "source": [
        "print(totalswithgamesplayed.head())"
      ],
      "metadata": {
        "colab": {
          "base_uri": "https://localhost:8080/"
        },
        "id": "zSuNgovBe85a",
        "outputId": "ee57d701-74ef-4553-a342-a3939eb12939"
      },
      "execution_count": 63,
      "outputs": [
        {
          "output_type": "stream",
          "name": "stdout",
          "text": [
            "                G  FPTS/G  Rank POS\n",
            "Player                             \n",
            "Josh Allen   17.0    24.2   1.0  QB\n",
            "CeeDee Lamb  17.0    15.8   2.0  WR\n",
            "Jalen Hurts  17.0    21.9   2.0  QB\n",
            "Sam LaPorta  17.0     9.0   2.0  TE\n",
            "Tyreek Hill  16.0    16.1   3.0  WR\n"
          ]
        }
      ]
    },
    {
      "cell_type": "code",
      "source": [
        "def combine_duplicates(df):\n",
        "    # Assuming numerical columns should be summed and non-numerical columns should be the first non-null value\n",
        "    return df.groupby(df.index).agg(lambda x: x.sum() if pd.api.types.is_numeric_dtype(x) else x.iloc[0])\n",
        "\n",
        "# Combine duplicates in the statmashup2 DataFrame\n",
        "statmashup2 = combine_duplicates(statmashup2)"
      ],
      "metadata": {
        "id": "QCYAz9BiHMKU"
      },
      "execution_count": 57,
      "outputs": []
    },
    {
      "cell_type": "markdown",
      "source": [
        "Handling for duplicate data points.  Eliminates duplicate data within teh database to prevent duplication errors"
      ],
      "metadata": {
        "id": "jE6PfD3FVqhB"
      }
    },
    {
      "cell_type": "code",
      "source": [
        "\n",
        "def correlation(player):\n",
        "    try:\n",
        "        pointdiffs = []\n",
        "        rankings = []\n",
        "\n",
        "        # Check if player exists in the DataFrame index\n",
        "        if player not in statmashup2.index:\n",
        "            print(f\"Player {player} not found in statmashup2\")\n",
        "            return 0\n",
        "\n",
        "        # Fetch the team and position for the player\n",
        "        player_data = statmashup2.loc[player]\n",
        "\n",
        "        team = player_data.get(\"Team\")\n",
        "        pos = player_data.get(\"Pos\")\n",
        "\n",
        "        # Check if team exists in Schedule2023\n",
        "        if team not in Schedule2023.index:\n",
        "            print(f\"Team {team} not found in Schedule2023\")\n",
        "            return 0\n",
        "\n",
        "        for i in range(1, 16):\n",
        "            week_key = \"Week \" + str(i)\n",
        "            points = player_data.get(week_key)\n",
        "            avg_fantasy_points = player_data.get(\"AvgFantasyPoints\")\n",
        "\n",
        "\n",
        "\n",
        "            opponent = Schedule2023.loc[team].get(\"W\" + str(i))\n",
        "\n",
        "            if opponent == \"BYE\" or pd.isna(opponent):\n",
        "\n",
        "                continue\n",
        "\n",
        "            if opponent not in Defense.index:\n",
        "                print(f\"Opponent {opponent} not found in Defense\")\n",
        "                continue\n",
        "\n",
        "            if points is None or avg_fantasy_points is None:\n",
        "\n",
        "                continue\n",
        "\n",
        "            pointdiff = points - avg_fantasy_points\n",
        "            ranking = Defense.loc[opponent].get(pos + \" Rank\")\n",
        "\n",
        "            if ranking is None:\n",
        "                print(f\"Missing defense ranking for opponent {opponent} in {week_key}\")\n",
        "                continue\n",
        "\n",
        "            pointdiffs.append(round(pointdiff, 2))\n",
        "            rankings.append(ranking)\n",
        "\n",
        "        if not pointdiffs or not rankings:\n",
        "\n",
        "            return 0\n",
        "\n",
        "        x = pd.Series(rankings)\n",
        "        y = pd.Series(pointdiffs)\n",
        "\n",
        "        correlation_value = round(x.corr(y), 2)\n",
        "        return correlation_value\n",
        "    except Exception as e:\n",
        "        print(f\"Exception occurred for player {player}: {e}\")\n",
        "        return 0\n",
        "\n",
        "\n",
        "\n",
        "\n",
        "\n",
        "\n",
        "\n",
        "\n",
        "\n",
        "\n"
      ],
      "metadata": {
        "id": "jVktsuHtJdaC"
      },
      "execution_count": 68,
      "outputs": []
    },
    {
      "cell_type": "markdown",
      "source": [
        "Lots of check point prints built into here.  If this were ever released to the public.  I'd eliminate all of the print statements to check for potential errors."
      ],
      "metadata": {
        "id": "VPRZMbyTVfDU"
      }
    },
    {
      "cell_type": "code",
      "source": [
        "import pandas as pd\n",
        "import numpy as np\n",
        "import matplotlib.pyplot as plt\n",
        "from sklearn.cluster import KMeans\n",
        "from sklearn.preprocessing import StandardScaler\n",
        "\n",
        "\n",
        "def graph(player):\n",
        "    pointdiffs = []\n",
        "    rankings = []\n",
        "    team_names = []\n",
        "\n",
        "    if player not in statmashup2.index:\n",
        "        print(f\"Player {player} not found in statmashup2\")\n",
        "        return\n",
        "\n",
        "    team = statmashup2.loc[player, 'Team']\n",
        "    pos = statmashup2.loc[player, 'Pos']\n",
        "\n",
        "    for i in range(1, 17):\n",
        "        points = statmashup2.loc[player].get(\"FPTS_\" + str(i))\n",
        "        opponent = Schedule2023.loc[team].get(\"W\" + str(i))\n",
        "\n",
        "        if opponent == \"BYE\" or points is None:\n",
        "            continue\n",
        "\n",
        "        pointdiff = points - statmashup2.loc[player].get(\"AvgFantasyPoints\")\n",
        "        ranking = Defense.loc[opponent].get(pos + \" Rank\")\n",
        "\n",
        "        if ranking is not None:\n",
        "            pointdiffs.append(round(pointdiff, 2))\n",
        "            rankings.append(ranking)\n",
        "            team_names.append(f\"{opponent} ({ranking})\")\n",
        "\n",
        "\n",
        "\n",
        "    x = pd.Series(rankings)\n",
        "    y = pd.Series(pointdiffs)\n",
        "\n",
        "    plt.figure(figsize=(16, 8))  # Increase figure size for better readability\n",
        "    plt.scatter(x, y)\n",
        "\n",
        "    # Set the x-ticks with team names and rankings\n",
        "    unique_rankings = np.unique(rankings)\n",
        "    plt.xticks(ticks=unique_rankings, labels=[team_names[rankings.index(r)] for r in unique_rankings], rotation=90)\n",
        "\n",
        "    plt.title(f\"Effect of Defense Strength on {player} in 2023\")\n",
        "    plt.xlabel(\"Defense Ranking (1-32) with Team\")\n",
        "    plt.ylabel(\"Fantasy Production Above/Below Yearly Mean\")\n",
        "\n",
        "    xdata = np.array(x)\n",
        "    ydata = np.array(y)\n",
        "    m, b = np.polyfit(xdata, ydata, 1)\n",
        "    plt.plot(x, m * x + b, color='red')  # Add line of best fit in red\n",
        "    plt.show()\n",
        "\n",
        "\n",
        "\n"
      ],
      "metadata": {
        "id": "Y33hHt9Le1jw"
      },
      "execution_count": 59,
      "outputs": []
    },
    {
      "cell_type": "code",
      "source": [
        "print(totalswithgamesplayed.info())"
      ],
      "metadata": {
        "colab": {
          "base_uri": "https://localhost:8080/"
        },
        "id": "1O7cp_uGrUdy",
        "outputId": "aeac0455-13e9-4891-f5a1-9a5288003879"
      },
      "execution_count": 85,
      "outputs": [
        {
          "output_type": "stream",
          "name": "stdout",
          "text": [
            "<class 'pandas.core.frame.DataFrame'>\n",
            "Index: 974 entries, Josh Allen to nan\n",
            "Data columns (total 4 columns):\n",
            " #   Column  Non-Null Count  Dtype  \n",
            "---  ------  --------------  -----  \n",
            " 0   G       968 non-null    float64\n",
            " 1   FPTS/G  968 non-null    float64\n",
            " 2   Rank    725 non-null    float64\n",
            " 3   POS     974 non-null    object \n",
            "dtypes: float64(3), object(1)\n",
            "memory usage: 70.3+ KB\n",
            "None\n"
          ]
        }
      ]
    },
    {
      "cell_type": "code",
      "source": [
        "def perform_clustering(player):\n",
        "    if player not in totalswithgamesplayed.index:\n",
        "        print(f\"Player {player} not found in the dataset.\")\n",
        "        return\n",
        "    totalswithgamesplayed1 = totalswithgamesplayed.dropna()\n",
        "    position = totalswithgamesplayed1.loc[player, 'POS']\n",
        "\n",
        "    # Filter dataset to include only players of the same position\n",
        "    position_players = totalswithgamesplayed1[totalswithgamesplayed1['POS'] == position]\n",
        "    features = ['FPTS/G']\n",
        "    data_for_clustering = position_players[features]\n",
        "\n",
        "    if data_for_clustering.empty:\n",
        "        print(f\"No data available for players of position {position}.\")\n",
        "        return\n",
        "\n",
        "    # Standardize the data\n",
        "    scaler = StandardScaler()\n",
        "    scaled_features = scaler.fit_transform(data_for_clustering)\n",
        "\n",
        "    # Perform K-Means Clustering\n",
        "    kmeans = KMeans(n_clusters=5, random_state=42, n_init=10)  # Explicitly set n_init\n",
        "    clusters = kmeans.fit_predict(scaled_features)\n",
        "\n",
        "    # Add cluster labels to the DataFrame using .loc to avoid SettingWithCopyWarning\n",
        "    position_players.loc[:, 'Cluster'] = clusters\n",
        "\n",
        "    # Visualize Clusters\n",
        "    plt.figure(figsize=(14, 8))\n",
        "    for cluster in range(5):\n",
        "        cluster_data = position_players[position_players['Cluster'] == cluster]\n",
        "        plt.scatter(cluster_data['FPTS/G'], cluster_data['FPTS/G'], label=f'Cluster {cluster}', s=100)\n",
        "\n",
        "    plt.scatter(totalswithgamesplayed1.loc[player, 'FPTS/G'], totalswithgamesplayed1.loc[player, 'FPTS/G'], color='black', edgecolors='w', s=200, label=player)\n",
        "\n",
        "    plt.title('Player Clustering Based on Fantasy Points per Game')\n",
        "    plt.xlabel('Fantasy Points per Game')\n",
        "    plt.ylabel('Fantasy Points per Game')\n",
        "    plt.legend()\n",
        "    plt.show()\n",
        "\n",
        "    # Print similar players\n",
        "    player_cluster = position_players.loc[player, 'Cluster']\n",
        "    similar_players = position_players[position_players['Cluster'] == player_cluster].index.tolist()\n",
        "    similar_players.remove(player)  # Remove the player themselves\n",
        "    print(f\"Players similar to {player}: {', '.join(similar_players)}\")\n",
        "\n",
        "\n",
        "\n",
        "\n",
        "\n",
        "\n",
        "\n"
      ],
      "metadata": {
        "id": "iCE1pnr6hJ22"
      },
      "execution_count": 95,
      "outputs": []
    },
    {
      "cell_type": "markdown",
      "source": [],
      "metadata": {
        "id": "UaSeRabZpQvG"
      }
    },
    {
      "cell_type": "code",
      "source": [
        "\n",
        "statmashup2 = statmashup2[statmashup2['Team'] != 'FA']\n",
        "\n",
        "statmashup2.drop(index='nan', inplace=True)"
      ],
      "metadata": {
        "id": "ee4_mowSo11J",
        "colab": {
          "base_uri": "https://localhost:8080/"
        },
        "outputId": "25431102-65a7-496d-95cc-17a4afbbc075"
      },
      "execution_count": 65,
      "outputs": [
        {
          "output_type": "stream",
          "name": "stderr",
          "text": [
            "<ipython-input-65-c19ab4c93594>:3: SettingWithCopyWarning: \n",
            "A value is trying to be set on a copy of a slice from a DataFrame\n",
            "\n",
            "See the caveats in the documentation: https://pandas.pydata.org/pandas-docs/stable/user_guide/indexing.html#returning-a-view-versus-a-copy\n",
            "  statmashup2.drop(index='nan', inplace=True)\n"
          ]
        }
      ]
    },
    {
      "cell_type": "code",
      "source": [
        "statmashup2 = combine_duplicates(statmashup2)"
      ],
      "metadata": {
        "id": "Ue2L5TKuIFbt"
      },
      "execution_count": 66,
      "outputs": []
    },
    {
      "cell_type": "code",
      "source": [
        "\n",
        "statmashup2 = statmashup2.assign(Correlation=statmashup2.index.map(correlation))\n",
        "statmashup2 = statmashup2.assign(AbsCorrelation=statmashup2.get(\"Correlation\").apply(abs))\n",
        "statmashup2['Correlation'] = statmashup2['Correlation'].astype(float)\n",
        "statmashup2['AbsCorrelation'] = statmashup2['AbsCorrelation'].astype(float)\n",
        "sigdata = statmashup2[statmashup2.get(\"AvgFantasyPoints\") > 6].sort_values(\"AbsCorrelation\", ascending=False)\n",
        "sigdata = sigdata[sigdata.get(\"AbsCorrelation\") >= 0]\n",
        "sigdata = sigdata[sigdata.get(\"G\") > 6]\n",
        "\n",
        "\n"
      ],
      "metadata": {
        "id": "NuNo8SVuiYS0"
      },
      "execution_count": 69,
      "outputs": []
    },
    {
      "cell_type": "code",
      "source": [
        "# Assuming statmashup2, Schedule2023, and Defense are already defined DataFrames\n",
        "def get_top_players_by_position(position, top_n=60):\n",
        "    filtered_df = statmashup2[statmashup2['Pos'] == position]\n",
        "    sorted_df = filtered_df.sort_values(by='AvgFantasyPoints', ascending=False)\n",
        "    return sorted_df.head(top_n)\n",
        "\n",
        "def main():\n",
        "    # Prompt user for a position\n",
        "    position = input(\"Enter the position you wish to analyze (e.g., QB, RB, WR, TE): \").strip().upper()\n",
        "\n",
        "    # Get top 60 players for the entered position\n",
        "    top_players = get_top_players_by_position(position, 60)\n",
        "    if top_players.empty:\n",
        "        print(f\"No players found for position {position}.\")\n",
        "        return\n",
        "\n",
        "    # Display the top 60 players\n",
        "    print(\"\\nTop 60 players for position\", position)\n",
        "    print(top_players[['AvgFantasyPoints']])\n",
        "\n",
        "    # Prompt user to select a player\n",
        "    player = input(\"\\nEnter the name of the player you wish to analyze (exactly as displayed or you can copy and paste): \").strip()\n",
        "\n",
        "    if player not in top_players.index:\n",
        "        print(f\"Player {player} not found in the top 60 players for position {position}.\")\n",
        "        return\n",
        "\n",
        "    # Execute the graph function on the selected player\n",
        "    graph(player)\n",
        "    perform_clustering(player)\n",
        "\n",
        "if __name__ == \"__main__\":\n",
        "    main()"
      ],
      "metadata": {
        "colab": {
          "base_uri": "https://localhost:8080/",
          "height": 1000
        },
        "id": "fMeJVKfEJUB_",
        "outputId": "29ce03e0-efc7-435f-ab7c-e0fc839b2fd5"
      },
      "execution_count": 97,
      "outputs": [
        {
          "name": "stdout",
          "output_type": "stream",
          "text": [
            "Enter the position you wish to analyze (e.g., QB, RB, WR, TE): QB\n",
            "\n",
            "Top 60 players for position QB\n",
            "                          AvgFantasyPoints\n",
            "Player                                    \n",
            "Josh Allen                       24.240000\n",
            "Jalen Hurts                      23.340000\n",
            "Dak Prescott                     20.300000\n",
            "Lamar Jackson                    20.126667\n",
            "Brock Purdy                      19.266667\n",
            "Jordan Love                      18.880000\n",
            "Patrick Mahomes II               18.806667\n",
            "Jared Goff                       17.953333\n",
            "Russell Wilson                   17.660000\n",
            "Sam Howell                       17.366667\n",
            "Baker Mayfield                   17.300000\n",
            "Trevor Lawrence                  17.226667\n",
            "Tua Tagovailoa                   17.193333\n",
            "C.J. Stroud                      16.440000\n",
            "Justin Herbert                   16.013333\n",
            "Matthew Stafford                 15.980000\n",
            "Joshua Dobbs                     14.033333\n",
            "Derek Carr                       13.753333\n",
            "Justin Fields                    13.686667\n",
            "Geno Smith                       13.206667\n",
            "Gardner Minshew II               12.226667\n",
            "Desmond Ridder                   11.453333\n",
            "Bryce Young                      10.573333\n",
            "Kirk Cousins                     10.326667\n",
            "Joe Burrow                       10.213333\n",
            "Zach Wilson                       8.453333\n",
            "Mac Jones                         7.886667\n",
            "Kenny Pickett                     7.613333\n",
            "Jake Browning                     7.360000\n",
            "Kyler Murray                      7.260000\n",
            "Will Levis                        7.166667\n",
            "Tommy DeVito                      6.393333\n",
            "Aidan O'Connell                   6.306667\n",
            "Deshaun Watson                    6.060000\n",
            "Joe Flacco                        5.680000\n",
            "Anthony Richardson                4.906667\n",
            "Jimmy Garoppolo                   4.873333\n",
            "Ryan Tannehill                    4.460000\n",
            "Daniel Jones                      4.200000\n",
            "Bailey Zappe                      4.020000\n",
            "Tyson Bagent                      3.953333\n",
            "Mitchell Trubisky                 3.580000\n",
            "Taylor Heinicke                   3.460000\n",
            "Tyrod Taylor                      3.453333\n",
            "Nick Mullens                      2.860000\n",
            "Easton Stick                      2.680000\n",
            "Drew Lock                         2.140000\n",
            "Dorian Thompson-Robinson          1.740000\n",
            "P.J. Walker                       1.660000\n",
            "Andy Dalton                       1.573333\n",
            "Jacoby Brissett                   1.526667\n",
            "Mason Rudolph                     1.340000\n",
            "Davis Mills                       1.193333\n",
            "Tim Boyle                         0.993333\n",
            "Jameis Winston                    0.993333\n",
            "Trevor Siemian                    0.886667\n",
            "Case Keenum                       0.853333\n",
            "C.J. Beathard                     0.800000\n",
            "Clayton Tune                      0.626667\n",
            "Tyler Huntley                     0.473333\n",
            "\n",
            "Enter the name of the player you wish to analyze (exactly as displayed or you can copy and paste): Jalen Hurts\n"
          ]
        },
        {
          "output_type": "display_data",
          "data": {
            "text/plain": [
              "<Figure size 1600x800 with 1 Axes>"
            ],
            "image/png": "[encoded data removed]"
          },
          "metadata": {}
        },
        {
          "output_type": "stream",
          "name": "stderr",
          "text": [
            "<ipython-input-95-51f2ddc1953d>:26: SettingWithCopyWarning: \n",
            "A value is trying to be set on a copy of a slice from a DataFrame.\n",
            "Try using .loc[row_indexer,col_indexer] = value instead\n",
            "\n",
            "See the caveats in the documentation: https://pandas.pydata.org/pandas-docs/stable/user_guide/indexing.html#returning-a-view-versus-a-copy\n",
            "  position_players.loc[:, 'Cluster'] = clusters\n"
          ]
        },
        {
          "output_type": "display_data",
          "data": {
            "text/plain": [
              "<Figure size 1400x800 with 1 Axes>"
            ],
            "image/png": "[encoded data removed]"
          },
          "metadata": {}
        },
        {
          "output_type": "stream",
          "name": "stdout",
          "text": [
            "Players similar to Jalen Hurts: Josh Allen, Dak Prescott, Lamar Jackson, Jordan Love, Brock Purdy, Jared Goff, Patrick Mahomes II, C.J. Stroud, Russell Wilson, Justin Herbert, Justin Fields, Kirk Cousins, Kyler Murray, Joe Flacco, Anthony Richardson\n"
          ]
        }
      ]
    },
    {
      "cell_type": "markdown",
      "source": [],
      "metadata": {
        "id": "NImME65Dbjuj"
      }
    },
    {
      "cell_type": "markdown",
      "source": [
        "you'll notice that some teams show two dots.  This reflects the fact that within the division, teams play each other twice, so they will have two points plotted per in team division.  If there are not plot points for a division game, it indicates that for whatever reason, the playe did not play, or they scored 0 points.  You may want to do further research on what happened during that week of play.  \n",
        "\n",
        "Also, fantasy seasons are short compared to regular season, so we only looked at 16 weeks which in almost every instance included a bye week.  This should result in 15 data points per player and anything less than that indicates either injury, or did not play for whatever reason.  \n"
      ],
      "metadata": {
        "id": "SpPzg12kR73H"
      }
    },
    {
      "cell_type": "markdown",
      "source": [
        "Also observe in the graphs that the teams on the bottom go from best to worst defensive ranking vs to position.  If there is a positive slope in the mean of the graph, that means the player overall tends to perform better as the defensive ranking worsens, and the player performs worse as the defensive ranking improves.  This is the exact opposite if the slope of the mean line is negative."
      ],
      "metadata": {
        "id": "rJ31uZc4bmvC"
      }
    },
    {
      "cell_type": "markdown",
      "source": [
        "https://github.com/anishkasam/fantasy-football/blob/master/2020.py\n",
        "\n",
        "Got the initial idea for the build of this from this project.  Used some base coding build, but I wasn't able to find databases for the 2023 stats built the same as his.  This resulted in alot of data cleaning of the .cvs files I was able to find, and then merging the data together in a way that was consistent with what we wanted to analyze.\n",
        "\n",
        "I added on some additional functionality to be able to specify in on individual players to analyze, and a cluster with a list of players of the same position who would perform similarly."
      ],
      "metadata": {
        "id": "olFSSlm1Js0G"
      }
    },
    {
      "cell_type": "markdown",
      "source": [
        "Definitely got some assistance from Chat GPT towards the end as I wanted to get the project finished.  \n",
        "\n",
        "https://chatgpt.com/"
      ],
      "metadata": {
        "id": "fXZIfnxGS0lm"
      }
    },
    {
      "cell_type": "markdown",
      "source": [
        "Going into the 2024 season, as written, I'd say the best use of the code would be to determine how a player might perform against an upcoming team.  Some things to consider are: Did the defensive coordinator stay the same, were there major changes in defensive personnel between seasons, and was there a change in QB, head coach, or offensive coordinator.  These are all things to consider in making choices as well, that are not taken into account in the information provided because we are looking at historical data that only takes into acccount players and teams.  Coaches are not taken into account here.\n"
      ],
      "metadata": {
        "id": "hYX9JV2nblA7"
      }
    },
    {
      "cell_type": "markdown",
      "source": [
        "Lastly, code was added in to provide a clustering chart and use that information to provide a list is similar players to the player being looked at.  This information can assist with choosing players of similar performance, who may be easier to attain in a draft format, or cheaper in a salary restricted format.  It also provides a black dot, so that it can be seen where the player performs within the clustering set up.\n"
      ],
      "metadata": {
        "id": "duM1r09axTcU"
      }
    }
  ]
}